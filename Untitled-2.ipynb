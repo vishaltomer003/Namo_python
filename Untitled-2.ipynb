{
 "cells": [
  {
   "cell_type": "code",
   "execution_count": 199,
   "metadata": {},
   "outputs": [],
   "source": [
    "import pandas as pd \n",
    "import matplotlib.pyplot as plt\n",
    "import seaborn as sns\n",
    "\n",
    "df = pd.read_csv(r'C:\\Users\\Vaishali Tomar\\Desktop\\ML_Revision\\UP_AC_District  (1).CSV')\n",
    "df1 = pd.read_csv(r'C:\\Users\\Vaishali Tomar\\Desktop\\ML_Revision\\UP_AC_District  (2).CSV')"
   ]
  },
  {
   "cell_type": "code",
   "execution_count": 200,
   "metadata": {},
   "outputs": [
    {
     "data": {
      "text/html": [
       "<div>\n",
       "<style scoped>\n",
       "    .dataframe tbody tr th:only-of-type {\n",
       "        vertical-align: middle;\n",
       "    }\n",
       "\n",
       "    .dataframe tbody tr th {\n",
       "        vertical-align: top;\n",
       "    }\n",
       "\n",
       "    .dataframe thead th {\n",
       "        text-align: right;\n",
       "    }\n",
       "</style>\n",
       "<table border=\"1\" class=\"dataframe\">\n",
       "  <thead>\n",
       "    <tr style=\"text-align: right;\">\n",
       "      <th></th>\n",
       "      <th>ac_no</th>\n",
       "      <th>Candidate</th>\n",
       "      <th>Party</th>\n",
       "      <th>Total Votes</th>\n",
       "      <th>% of Votes</th>\n",
       "      <th>Rank</th>\n",
       "    </tr>\n",
       "  </thead>\n",
       "  <tbody>\n",
       "    <tr>\n",
       "      <th>0</th>\n",
       "      <td>1</td>\n",
       "      <td>Umar Ali Khan</td>\n",
       "      <td>Samajwadi Party</td>\n",
       "      <td>134513</td>\n",
       "      <td>47.81</td>\n",
       "      <td>1</td>\n",
       "    </tr>\n",
       "    <tr>\n",
       "      <th>1</th>\n",
       "      <td>1</td>\n",
       "      <td>Naresh Saini</td>\n",
       "      <td>Bharatiya Janata Party</td>\n",
       "      <td>96633</td>\n",
       "      <td>34.34</td>\n",
       "      <td>2</td>\n",
       "    </tr>\n",
       "    <tr>\n",
       "      <th>2</th>\n",
       "      <td>1</td>\n",
       "      <td>Rais Malik</td>\n",
       "      <td>Bahujan Samaj Party</td>\n",
       "      <td>45075</td>\n",
       "      <td>16.02</td>\n",
       "      <td>3</td>\n",
       "    </tr>\n",
       "    <tr>\n",
       "      <th>3</th>\n",
       "      <td>1</td>\n",
       "      <td>Poonam Kamboj</td>\n",
       "      <td>Indian National Congress</td>\n",
       "      <td>1632</td>\n",
       "      <td>0.58</td>\n",
       "      <td>4</td>\n",
       "    </tr>\n",
       "    <tr>\n",
       "      <th>4</th>\n",
       "      <td>1</td>\n",
       "      <td>Sushil Kumar</td>\n",
       "      <td>Aam Aadmi Party</td>\n",
       "      <td>1162</td>\n",
       "      <td>0.41</td>\n",
       "      <td>5</td>\n",
       "    </tr>\n",
       "    <tr>\n",
       "      <th>...</th>\n",
       "      <td>...</td>\n",
       "      <td>...</td>\n",
       "      <td>...</td>\n",
       "      <td>...</td>\n",
       "      <td>...</td>\n",
       "      <td>...</td>\n",
       "    </tr>\n",
       "    <tr>\n",
       "      <th>4840</th>\n",
       "      <td>403</td>\n",
       "      <td>HRIDAY KUMAR</td>\n",
       "      <td>Independent</td>\n",
       "      <td>1853</td>\n",
       "      <td>0.91</td>\n",
       "      <td>7</td>\n",
       "    </tr>\n",
       "    <tr>\n",
       "      <th>4841</th>\n",
       "      <td>403</td>\n",
       "      <td>ASHOK KUMAR</td>\n",
       "      <td>Jan Adhikar Party</td>\n",
       "      <td>1758</td>\n",
       "      <td>0.86</td>\n",
       "      <td>8</td>\n",
       "    </tr>\n",
       "    <tr>\n",
       "      <th>4842</th>\n",
       "      <td>403</td>\n",
       "      <td>MISHRI LAL</td>\n",
       "      <td>Independent</td>\n",
       "      <td>1317</td>\n",
       "      <td>0.64</td>\n",
       "      <td>9</td>\n",
       "    </tr>\n",
       "    <tr>\n",
       "      <th>4843</th>\n",
       "      <td>403</td>\n",
       "      <td>KRIPASHANKAR</td>\n",
       "      <td>All India Peoples' Front (Radical)</td>\n",
       "      <td>894</td>\n",
       "      <td>0.44</td>\n",
       "      <td>10</td>\n",
       "    </tr>\n",
       "    <tr>\n",
       "      <th>4844</th>\n",
       "      <td>403</td>\n",
       "      <td>PUSHPA DEVI</td>\n",
       "      <td>Aam Aadmi Party</td>\n",
       "      <td>830</td>\n",
       "      <td>0.41</td>\n",
       "      <td>11</td>\n",
       "    </tr>\n",
       "  </tbody>\n",
       "</table>\n",
       "<p>4845 rows × 6 columns</p>\n",
       "</div>"
      ],
      "text/plain": [
       "      ac_no      Candidate                               Party  Total Votes  \\\n",
       "0         1  Umar Ali Khan                     Samajwadi Party       134513   \n",
       "1         1   Naresh Saini              Bharatiya Janata Party        96633   \n",
       "2         1     Rais Malik                 Bahujan Samaj Party        45075   \n",
       "3         1  Poonam Kamboj            Indian National Congress         1632   \n",
       "4         1   Sushil Kumar                     Aam Aadmi Party         1162   \n",
       "...     ...            ...                                 ...          ...   \n",
       "4840    403   HRIDAY KUMAR                         Independent         1853   \n",
       "4841    403    ASHOK KUMAR                   Jan Adhikar Party         1758   \n",
       "4842    403     MISHRI LAL                         Independent         1317   \n",
       "4843    403   KRIPASHANKAR  All India Peoples' Front (Radical)          894   \n",
       "4844    403    PUSHPA DEVI                     Aam Aadmi Party          830   \n",
       "\n",
       "      % of Votes  Rank  \n",
       "0          47.81     1  \n",
       "1          34.34     2  \n",
       "2          16.02     3  \n",
       "3           0.58     4  \n",
       "4           0.41     5  \n",
       "...          ...   ...  \n",
       "4840        0.91     7  \n",
       "4841        0.86     8  \n",
       "4842        0.64     9  \n",
       "4843        0.44    10  \n",
       "4844        0.41    11  \n",
       "\n",
       "[4845 rows x 6 columns]"
      ]
     },
     "execution_count": 200,
     "metadata": {},
     "output_type": "execute_result"
    }
   ],
   "source": [
    "df1"
   ]
  },
  {
   "cell_type": "code",
   "execution_count": 201,
   "metadata": {},
   "outputs": [],
   "source": [
    "# 1. How many constituencies did the Bharatiya Janata Party (BJP) win?\n",
    "# 2. Similarly calculate the number of constituencies won by each party.\n",
    "# 3. In how many constituencies did the Bharatiya Janata Party and the Samajwadi Party\n",
    "# occupy the first two ranks (i.e either BJP comes first and SP second or vice versa)\n",
    "# 4. In how many constituencies did the Bahujan Samaj Party come second.\n",
    "# 5. Find the number of constituencies in every district. (you will find the data in the district\n",
    "# file)\n",
    "# 6. What were the top 3 districts for the Bharatiya Janata Party (evaluate on the basis of the\n",
    "# % of seats won by the BJP in that district)\n",
    "# 7. In how many constituencies, the difference in Total Votes between the Bharatiya Janata\n",
    "# Party and the Samajwadi Party was less than 5000.\n",
    "# 8. For the consituencies in part 7, in how many constituencies did the BJP lose (did not\n",
    "# come first)\n",
    "# 9. For every assembly constituency, find the number of parties that got more than 10,000\n",
    "# total votes.\n",
    "# 10. Calculate the district level vote % for each party. To calculate the vote % in a district. Add\n",
    "# the total votes from all consituencies in that district for a party and divide it by the total\n",
    "# votes in that district."
   ]
  },
  {
   "cell_type": "code",
   "execution_count": 202,
   "metadata": {},
   "outputs": [
    {
     "name": "stdout",
     "output_type": "stream",
     "text": [
      "255\n"
     ]
    }
   ],
   "source": [
    "# 1. How many   did the Bharatiya Janata Party (BJP) win?\n",
    "count = 0\n",
    "for i in range(len(df1[\"Rank\"])):\n",
    "    if df1[\"Party\"][i] == \"Bharatiya Janata Party\" and df1[\"Rank\"][i] == 1:\n",
    "        count+=1\n",
    "print(count)\n",
    "    "
   ]
  },
  {
   "cell_type": "code",
   "execution_count": 203,
   "metadata": {},
   "outputs": [
    {
     "data": {
      "text/plain": [
       "255"
      ]
     },
     "execution_count": 203,
     "metadata": {},
     "output_type": "execute_result"
    }
   ],
   "source": [
    "filter1 = df1[\"Rank\"] == 1\n",
    "filter2 =  df1[\"Party\"] == \"Bharatiya Janata Party\"\n",
    "df1[\"Party\"].where(filter1 & filter2).count()"
   ]
  },
  {
   "cell_type": "code",
   "execution_count": 204,
   "metadata": {},
   "outputs": [
    {
     "data": {
      "text/plain": [
       "Bharatiya Janata Party                  255\n",
       "Samajwadi Party                         111\n",
       "Apna Dal (Soneylal)                      12\n",
       "Rashtriya Lok Dal                         8\n",
       "Suheldev Bharatiya Samaj Party            6\n",
       "Nirbal Indian Shoshit Hamara Aam Dal      6\n",
       "Indian National Congress                  2\n",
       "Jansatta Dal Loktantrik                   2\n",
       "Bahujan Samaj Party                       1\n",
       "Name: Party, dtype: int64"
      ]
     },
     "execution_count": 204,
     "metadata": {},
     "output_type": "execute_result"
    }
   ],
   "source": [
    "# 2. Similarly calculate the number of constituencies won by each party.\n",
    "df1[\"Party\"].where(df1[\"Rank\"]==1).value_counts()"
   ]
  },
  {
   "cell_type": "code",
   "execution_count": 205,
   "metadata": {},
   "outputs": [
    {
     "name": "stdout",
     "output_type": "stream",
     "text": [
      "305\n"
     ]
    }
   ],
   "source": [
    "# 3. In how many constituencies did the Bharatiya Janata Party and the Samajwadi Party \n",
    "#  occupy the first two ranks (i.e either BJP comes first and SP second or vice versa)\n",
    "count = 0\n",
    "for i in range(len(df1[\"Rank\"])):\n",
    "    if (df1[\"Party\"][i] == \"Bharatiya Janata Party\" and df1[\"Rank\"][i] == 1) and (df1[\"Party\"][i+1] == \"Samajwadi Party\" and df1[\"Rank\"][i+1] == 2) :\n",
    "        count += 1\n",
    "    if (df1[\"Party\"][i] == \"Samajwadi Party\" and df1[\"Rank\"][i] == 1) and (df1[\"Party\"][i+1] == \"Bharatiya Janata Party\" and df1[\"Rank\"][i+1] == 2) :\n",
    "        count += 1\n",
    "print(count)"
   ]
  },
  {
   "cell_type": "code",
   "execution_count": 206,
   "metadata": {},
   "outputs": [
    {
     "data": {
      "text/plain": [
       "18"
      ]
     },
     "execution_count": 206,
     "metadata": {},
     "output_type": "execute_result"
    }
   ],
   "source": [
    "# 4. In how many constituencies did the Bahujan Samaj Party come second.\n",
    "filter1 = df1[\"Rank\"] == 2\n",
    "filter2 =  df1[\"Party\"] == \"Bahujan Samaj Party\"\n",
    "df1[\"Party\"].where(filter1 & filter2).count()"
   ]
  },
  {
   "cell_type": "code",
   "execution_count": 207,
   "metadata": {},
   "outputs": [
    {
     "data": {
      "text/plain": [
       "Allahabad        12\n",
       "Kanpur Nagar     10\n",
       "Azamgarh         10\n",
       "Muzaffarnagar     9\n",
       "Lucknow           9\n",
       "                 ..\n",
       "Chitrakoot        2\n",
       "Lalitpur          2\n",
       "Hamirpur          2\n",
       "Mahoba            2\n",
       "Shrawasti         2\n",
       "Name: District, Length: 70, dtype: int64"
      ]
     },
     "execution_count": 207,
     "metadata": {},
     "output_type": "execute_result"
    }
   ],
   "source": [
    "# 5. Find the number of constituencies in every district. (you will find the data in the district\n",
    "# file)\n",
    "df[\"District\"].value_counts()\n",
    "\n"
   ]
  },
  {
   "cell_type": "code",
   "execution_count": 208,
   "metadata": {},
   "outputs": [],
   "source": [
    "# 6. What were the top 3 districts for the Bharatiya Janata Party (evaluate on the basis of the\n",
    "# % of seats won by the BJP in that district)\n",
    "df_new = df1.merge(df[['AC No.', 'AC Name', 'District']],left_on='ac_no',right_on= 'AC No.', how = 'left')\n",
    "filter1 = df_new[\"Rank\"] == 1\n",
    "filter2 =  df_new[\"Party\"] == \"Bharatiya Janata Party\""
   ]
  },
  {
   "cell_type": "code",
   "execution_count": 209,
   "metadata": {},
   "outputs": [],
   "source": [
    "import numpy as np\n",
    "district = []\n",
    "perctn_won_by_bjp  =[]\n",
    "for i in df_new[\"District\"].unique():\n",
    "    district.append(i)\n",
    "    try:\n",
    "        A = df_new[\"District\"].where(filter1 & filter2).value_counts()[i]/df[\"District\"].value_counts()[i]\n",
    "        perctn_won_by_bjp.append(round(A*100))\n",
    "    except:\n",
    "        perctn_won_by_bjp.append(np.nan)"
   ]
  },
  {
   "cell_type": "code",
   "execution_count": 210,
   "metadata": {},
   "outputs": [
    {
     "data": {
      "text/html": [
       "<div>\n",
       "<style scoped>\n",
       "    .dataframe tbody tr th:only-of-type {\n",
       "        vertical-align: middle;\n",
       "    }\n",
       "\n",
       "    .dataframe tbody tr th {\n",
       "        vertical-align: top;\n",
       "    }\n",
       "\n",
       "    .dataframe thead th {\n",
       "        text-align: right;\n",
       "    }\n",
       "</style>\n",
       "<table border=\"1\" class=\"dataframe\">\n",
       "  <thead>\n",
       "    <tr style=\"text-align: right;\">\n",
       "      <th></th>\n",
       "      <th>district</th>\n",
       "      <th>perctn_won_by_bjp</th>\n",
       "    </tr>\n",
       "  </thead>\n",
       "  <tbody>\n",
       "    <tr>\n",
       "      <th>37</th>\n",
       "      <td>Lalitpur</td>\n",
       "      <td>100.0</td>\n",
       "    </tr>\n",
       "    <tr>\n",
       "      <th>14</th>\n",
       "      <td>Agra</td>\n",
       "      <td>100.0</td>\n",
       "    </tr>\n",
       "    <tr>\n",
       "      <th>69</th>\n",
       "      <td>Sonbhadra</td>\n",
       "      <td>100.0</td>\n",
       "    </tr>\n",
       "  </tbody>\n",
       "</table>\n",
       "</div>"
      ],
      "text/plain": [
       "     district  perctn_won_by_bjp\n",
       "37   Lalitpur              100.0\n",
       "14       Agra              100.0\n",
       "69  Sonbhadra              100.0"
      ]
     },
     "execution_count": 210,
     "metadata": {},
     "output_type": "execute_result"
    }
   ],
   "source": [
    "col = [\"district\",\"perctn_won_by_bjp\"]\n",
    "df_A = pd.DataFrame({\"district\":district,\"perctn_won_by_bjp\":perctn_won_by_bjp})\n",
    "df_A.dropna(inplace=True)\n",
    "df_A.sort_values(\"perctn_won_by_bjp\").tail(3)\n"
   ]
  },
  {
   "cell_type": "code",
   "execution_count": 211,
   "metadata": {},
   "outputs": [],
   "source": [
    "# 7. In how many constituencies, the difference in Total Votes between the Bharatiya Janata\n",
    "# Party and the Samajwadi Party was less than 5000.\n",
    "A = df_new[df_new[\"Party\"]==\"Bharatiya Janata Party\"]\n",
    "B = df_new[df_new[\"Party\"]==\"Samajwadi Party\"]\n",
    "A_B = A[[\"AC Name\",\"Party\",\"Total Votes\",]].merge(B[['AC Name', \"Party\",'Total Votes' ]],on = \"AC Name\", how = 'inner')\n"
   ]
  },
  {
   "cell_type": "code",
   "execution_count": 212,
   "metadata": {},
   "outputs": [
    {
     "data": {
      "text/html": [
       "<div>\n",
       "<style scoped>\n",
       "    .dataframe tbody tr th:only-of-type {\n",
       "        vertical-align: middle;\n",
       "    }\n",
       "\n",
       "    .dataframe tbody tr th {\n",
       "        vertical-align: top;\n",
       "    }\n",
       "\n",
       "    .dataframe thead th {\n",
       "        text-align: right;\n",
       "    }\n",
       "</style>\n",
       "<table border=\"1\" class=\"dataframe\">\n",
       "  <thead>\n",
       "    <tr style=\"text-align: right;\">\n",
       "      <th></th>\n",
       "      <th>AC Name</th>\n",
       "      <th>Party_x</th>\n",
       "      <th>Total Votes_x</th>\n",
       "      <th>Party_y</th>\n",
       "      <th>Total Votes_y</th>\n",
       "    </tr>\n",
       "  </thead>\n",
       "  <tbody>\n",
       "    <tr>\n",
       "      <th>0</th>\n",
       "      <td>Behat</td>\n",
       "      <td>Bharatiya Janata Party</td>\n",
       "      <td>96633</td>\n",
       "      <td>Samajwadi Party</td>\n",
       "      <td>134513</td>\n",
       "    </tr>\n",
       "    <tr>\n",
       "      <th>1</th>\n",
       "      <td>Nakur</td>\n",
       "      <td>Bharatiya Janata Party</td>\n",
       "      <td>104114</td>\n",
       "      <td>Samajwadi Party</td>\n",
       "      <td>103799</td>\n",
       "    </tr>\n",
       "    <tr>\n",
       "      <th>2</th>\n",
       "      <td>Saharanpur Nagar</td>\n",
       "      <td>Bharatiya Janata Party</td>\n",
       "      <td>143195</td>\n",
       "      <td>Samajwadi Party</td>\n",
       "      <td>135761</td>\n",
       "    </tr>\n",
       "    <tr>\n",
       "      <th>3</th>\n",
       "      <td>Saharanpur</td>\n",
       "      <td>Bharatiya Janata Party</td>\n",
       "      <td>76262</td>\n",
       "      <td>Samajwadi Party</td>\n",
       "      <td>107007</td>\n",
       "    </tr>\n",
       "    <tr>\n",
       "      <th>4</th>\n",
       "      <td>Deoband</td>\n",
       "      <td>Bharatiya Janata Party</td>\n",
       "      <td>93890</td>\n",
       "      <td>Samajwadi Party</td>\n",
       "      <td>86786</td>\n",
       "    </tr>\n",
       "    <tr>\n",
       "      <th>...</th>\n",
       "      <td>...</td>\n",
       "      <td>...</td>\n",
       "      <td>...</td>\n",
       "      <td>...</td>\n",
       "      <td>...</td>\n",
       "    </tr>\n",
       "    <tr>\n",
       "      <th>318</th>\n",
       "      <td>Marihan</td>\n",
       "      <td>Bharatiya Janata Party</td>\n",
       "      <td>105377</td>\n",
       "      <td>Samajwadi Party</td>\n",
       "      <td>42007</td>\n",
       "    </tr>\n",
       "    <tr>\n",
       "      <th>319</th>\n",
       "      <td>Ghorawal</td>\n",
       "      <td>Bharatiya Janata Party</td>\n",
       "      <td>101277</td>\n",
       "      <td>Samajwadi Party</td>\n",
       "      <td>77355</td>\n",
       "    </tr>\n",
       "    <tr>\n",
       "      <th>320</th>\n",
       "      <td>Robertsganj</td>\n",
       "      <td>Bharatiya Janata Party</td>\n",
       "      <td>84496</td>\n",
       "      <td>Samajwadi Party</td>\n",
       "      <td>78875</td>\n",
       "    </tr>\n",
       "    <tr>\n",
       "      <th>321</th>\n",
       "      <td>Obra</td>\n",
       "      <td>Bharatiya Janata Party</td>\n",
       "      <td>78364</td>\n",
       "      <td>Samajwadi Party</td>\n",
       "      <td>51922</td>\n",
       "    </tr>\n",
       "    <tr>\n",
       "      <th>322</th>\n",
       "      <td>Duddhi</td>\n",
       "      <td>Bharatiya Janata Party</td>\n",
       "      <td>84407</td>\n",
       "      <td>Samajwadi Party</td>\n",
       "      <td>78110</td>\n",
       "    </tr>\n",
       "  </tbody>\n",
       "</table>\n",
       "<p>323 rows × 5 columns</p>\n",
       "</div>"
      ],
      "text/plain": [
       "              AC Name                 Party_x  Total Votes_x          Party_y  \\\n",
       "0               Behat  Bharatiya Janata Party          96633  Samajwadi Party   \n",
       "1               Nakur  Bharatiya Janata Party         104114  Samajwadi Party   \n",
       "2    Saharanpur Nagar  Bharatiya Janata Party         143195  Samajwadi Party   \n",
       "3          Saharanpur  Bharatiya Janata Party          76262  Samajwadi Party   \n",
       "4             Deoband  Bharatiya Janata Party          93890  Samajwadi Party   \n",
       "..                ...                     ...            ...              ...   \n",
       "318           Marihan  Bharatiya Janata Party         105377  Samajwadi Party   \n",
       "319          Ghorawal  Bharatiya Janata Party         101277  Samajwadi Party   \n",
       "320       Robertsganj  Bharatiya Janata Party          84496  Samajwadi Party   \n",
       "321              Obra  Bharatiya Janata Party          78364  Samajwadi Party   \n",
       "322            Duddhi  Bharatiya Janata Party          84407  Samajwadi Party   \n",
       "\n",
       "     Total Votes_y  \n",
       "0           134513  \n",
       "1           103799  \n",
       "2           135761  \n",
       "3           107007  \n",
       "4            86786  \n",
       "..             ...  \n",
       "318          42007  \n",
       "319          77355  \n",
       "320          78875  \n",
       "321          51922  \n",
       "322          78110  \n",
       "\n",
       "[323 rows x 5 columns]"
      ]
     },
     "execution_count": 212,
     "metadata": {},
     "output_type": "execute_result"
    }
   ],
   "source": [
    "A_B"
   ]
  },
  {
   "cell_type": "code",
   "execution_count": 213,
   "metadata": {},
   "outputs": [
    {
     "name": "stdout",
     "output_type": "stream",
     "text": [
      "42\n"
     ]
    }
   ],
   "source": [
    "count = 0\n",
    "for i in range(323):\n",
    "    if (A_B['Total Votes_x'][i]\t- A_B['Total Votes_y'][i]) < 5000 and (A_B['Total Votes_x'][i]\t- A_B['Total Votes_y'][i]) > -5000:\n",
    "        count += 1\n",
    "print(count)"
   ]
  },
  {
   "cell_type": "code",
   "execution_count": 214,
   "metadata": {},
   "outputs": [],
   "source": [
    "# 8. For the consituencies in part 7, in how many constituencies did the BJP lose (did not\n",
    "# come first)"
   ]
  },
  {
   "cell_type": "code",
   "execution_count": 215,
   "metadata": {},
   "outputs": [
    {
     "name": "stdout",
     "output_type": "stream",
     "text": [
      "18\n"
     ]
    }
   ],
   "source": [
    "count = 0\n",
    "for i in range(323):\n",
    "    if (A_B['Total Votes_y'][i]\t- A_B['Total Votes_x'][i]) < 5000 and (A_B['Total Votes_y'][i]\t- A_B['Total Votes_x'][i]) > 0:\n",
    "        count += 1\n",
    "print(count)"
   ]
  },
  {
   "cell_type": "code",
   "execution_count": 216,
   "metadata": {},
   "outputs": [],
   "source": [
    "# 9. For every assembly constituency, find the number of parties that got more than 10,000\n",
    "# total votes."
   ]
  },
  {
   "cell_type": "code",
   "execution_count": 219,
   "metadata": {},
   "outputs": [
    {
     "data": {
      "text/plain": [
       "Vishwanath Ganj    5\n",
       "Shohratgarh        5\n",
       "Khalilabad         5\n",
       "Khadda             5\n",
       "Zaidpur            4\n",
       "                  ..\n",
       "Meerut             2\n",
       "Matera             2\n",
       "Barkhera           2\n",
       "Gorakhpur Urban    2\n",
       "Rampur Khas        2\n",
       "Name: AC Name, Length: 403, dtype: int64"
      ]
     },
     "execution_count": 219,
     "metadata": {},
     "output_type": "execute_result"
    }
   ],
   "source": [
    "df_new[\"AC Name\"].where(df_new[\"Total Votes\"]>10000).value_counts()"
   ]
  },
  {
   "cell_type": "code",
   "execution_count": null,
   "metadata": {},
   "outputs": [],
   "source": [
    "# 10. Calculate the district level vote % for each party. To calculate the vote % in a district. Add\n",
    "# the total votes from all consituencies in that district for a party and divide it by the total\n",
    "# votes in that district."
   ]
  },
  {
   "cell_type": "code",
   "execution_count": 248,
   "metadata": {},
   "outputs": [
    {
     "data": {
      "text/html": [
       "<div>\n",
       "<style scoped>\n",
       "    .dataframe tbody tr th:only-of-type {\n",
       "        vertical-align: middle;\n",
       "    }\n",
       "\n",
       "    .dataframe tbody tr th {\n",
       "        vertical-align: top;\n",
       "    }\n",
       "\n",
       "    .dataframe thead th {\n",
       "        text-align: right;\n",
       "    }\n",
       "</style>\n",
       "<table border=\"1\" class=\"dataframe\">\n",
       "  <thead>\n",
       "    <tr style=\"text-align: right;\">\n",
       "      <th></th>\n",
       "      <th></th>\n",
       "      <th>Total Votes</th>\n",
       "      <th>%</th>\n",
       "    </tr>\n",
       "    <tr>\n",
       "      <th>District</th>\n",
       "      <th>Party</th>\n",
       "      <th></th>\n",
       "      <th></th>\n",
       "    </tr>\n",
       "  </thead>\n",
       "  <tbody>\n",
       "    <tr>\n",
       "      <th rowspan=\"5\" valign=\"top\">Agra</th>\n",
       "      <th>Aam Aadmi Party</th>\n",
       "      <td>7802</td>\n",
       "      <td>0.368569</td>\n",
       "    </tr>\n",
       "    <tr>\n",
       "      <th>Aazad Samaj Party (Kanshi Ram)</th>\n",
       "      <td>1119</td>\n",
       "      <td>0.052862</td>\n",
       "    </tr>\n",
       "    <tr>\n",
       "      <th>Adarsh Samaj Party</th>\n",
       "      <td>260</td>\n",
       "      <td>0.012282</td>\n",
       "    </tr>\n",
       "    <tr>\n",
       "      <th>Bahujan Mukti Party</th>\n",
       "      <td>149</td>\n",
       "      <td>0.007039</td>\n",
       "    </tr>\n",
       "    <tr>\n",
       "      <th>Bahujan Samaj Party</th>\n",
       "      <td>473661</td>\n",
       "      <td>22.375927</td>\n",
       "    </tr>\n",
       "    <tr>\n",
       "      <th>...</th>\n",
       "      <th>...</th>\n",
       "      <td>...</td>\n",
       "      <td>...</td>\n",
       "    </tr>\n",
       "    <tr>\n",
       "      <th rowspan=\"5\" valign=\"top\">Varanasi</th>\n",
       "      <th>Rashtriya Vikas Manch Party</th>\n",
       "      <td>378</td>\n",
       "      <td>0.020204</td>\n",
       "    </tr>\n",
       "    <tr>\n",
       "      <th>Right to Recall Party</th>\n",
       "      <td>149</td>\n",
       "      <td>0.007964</td>\n",
       "    </tr>\n",
       "    <tr>\n",
       "      <th>Samajwadi Party</th>\n",
       "      <td>326216</td>\n",
       "      <td>17.435913</td>\n",
       "    </tr>\n",
       "    <tr>\n",
       "      <th>Sarvjan Sanatan Party</th>\n",
       "      <td>566</td>\n",
       "      <td>0.030252</td>\n",
       "    </tr>\n",
       "    <tr>\n",
       "      <th>Suheldev Bharatiya Samaj Party</th>\n",
       "      <td>179472</td>\n",
       "      <td>9.592596</td>\n",
       "    </tr>\n",
       "  </tbody>\n",
       "</table>\n",
       "<p>1474 rows × 2 columns</p>\n",
       "</div>"
      ],
      "text/plain": [
       "                                         Total Votes          %\n",
       "District Party                                                 \n",
       "Agra     Aam Aadmi Party                        7802   0.368569\n",
       "         Aazad Samaj Party (Kanshi Ram)         1119   0.052862\n",
       "         Adarsh Samaj Party                      260   0.012282\n",
       "         Bahujan Mukti Party                     149   0.007039\n",
       "         Bahujan Samaj Party                  473661  22.375927\n",
       "...                                              ...        ...\n",
       "Varanasi Rashtriya Vikas Manch Party             378   0.020204\n",
       "         Right to Recall Party                   149   0.007964\n",
       "         Samajwadi Party                      326216  17.435913\n",
       "         Sarvjan Sanatan Party                   566   0.030252\n",
       "         Suheldev Bharatiya Samaj Party       179472   9.592596\n",
       "\n",
       "[1474 rows x 2 columns]"
      ]
     },
     "execution_count": 248,
     "metadata": {},
     "output_type": "execute_result"
    }
   ],
   "source": [
    "df_new\n",
    "A = df_new.groupby(\"District\").aggregate({\"Total Votes\": sum})\n",
    "B = df_new.groupby([\"District\",\"Party\"]).aggregate({\"Total Votes\": sum})\n",
    "B['%'] = 100 * B['Total Votes'] / B.groupby('District')['Total Votes'].transform('sum')\n",
    "B\n"
   ]
  }
 ],
 "metadata": {
  "kernelspec": {
   "display_name": "base",
   "language": "python",
   "name": "python3"
  },
  "language_info": {
   "codemirror_mode": {
    "name": "ipython",
    "version": 3
   },
   "file_extension": ".py",
   "mimetype": "text/x-python",
   "name": "python",
   "nbconvert_exporter": "python",
   "pygments_lexer": "ipython3",
   "version": "3.9.12"
  },
  "orig_nbformat": 4,
  "vscode": {
   "interpreter": {
    "hash": "043f2b5a1970a131d06754b308e1494d14bec9888fec20f91acc177f4f73a177"
   }
  }
 },
 "nbformat": 4,
 "nbformat_minor": 2
}
